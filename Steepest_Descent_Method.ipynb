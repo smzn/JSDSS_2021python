{
  "nbformat": 4,
  "nbformat_minor": 0,
  "metadata": {
    "kernelspec": {
      "display_name": "Python 3",
      "language": "python",
      "name": "python3"
    },
    "language_info": {
      "codemirror_mode": {
        "name": "ipython",
        "version": 3
      },
      "file_extension": ".py",
      "mimetype": "text/x-python",
      "name": "python",
      "nbconvert_exporter": "python",
      "pygments_lexer": "ipython3",
      "version": "3.7.1"
    },
    "colab": {
      "name": "Steepest Descent Method.ipynb",
      "provenance": []
    }
  },
  "cells": [
    {
      "cell_type": "markdown",
      "metadata": {
        "id": "UCNlJmP9M093"
      },
      "source": [
        "# 最急降下法の例"
      ]
    },
    {
      "cell_type": "code",
      "metadata": {
        "id": "q2FOmm07M097",
        "colab": {
          "base_uri": "https://localhost:8080/",
          "height": 39
        },
        "outputId": "e82c58f3-6cde-4336-bf6b-9a78e3f1991b"
      },
      "source": [
        "import sympy\n",
        "x0, x1, x2, a0 = sympy.symbols('x0 x1 x2 a0')\n",
        "sympy.init_printing()\n",
        "\n",
        "f = 10*x1**2 +5*x1*x2 +10*(x2-3)**2\n",
        "f"
      ],
      "execution_count": null,
      "outputs": [
        {
          "output_type": "execute_result",
          "data": {
            "image/png": "[encoded data removed]",
            "text/latex": "$\\displaystyle 10 x_{1}^{2} + 5 x_{1} x_{2} + 10 \\left(x_{2} - 3\\right)^{2}$",
            "text/plain": [
              "     2                        2\n",
              "10⋅x₁  + 5⋅x₁⋅x₂ + 10⋅(x₂ - 3) "
            ]
          },
          "metadata": {},
          "execution_count": 1
        }
      ]
    },
    {
      "cell_type": "code",
      "metadata": {
        "id": "B_xlnVWpM099",
        "colab": {
          "base_uri": "https://localhost:8080/",
          "height": 58
        },
        "outputId": "92db0726-2853-4a45-faf2-a46299f78f7c"
      },
      "source": [
        "#x0が求めたい解、初期値を(10,15)とおく\n",
        "x0 = sympy.Matrix([[10],[15]])\n",
        "x0"
      ],
      "execution_count": null,
      "outputs": [
        {
          "output_type": "execute_result",
          "data": {
            "text/latex": "$\\displaystyle \\left[\\begin{matrix}10\\\\15\\end{matrix}\\right]$",
            "text/plain": [
              "⎡10⎤\n",
              "⎢  ⎥\n",
              "⎣15⎦"
            ]
          },
          "metadata": {},
          "execution_count": 2
        }
      ]
    },
    {
      "cell_type": "code",
      "metadata": {
        "id": "mGRj2XhCM09-",
        "colab": {
          "base_uri": "https://localhost:8080/",
          "height": 38
        },
        "outputId": "6a914f0e-c646-46f3-bdf7-5f0ff3ff0438"
      },
      "source": [
        "dfx1 = sympy.diff(f, x1)\n",
        "dfx1"
      ],
      "execution_count": null,
      "outputs": [
        {
          "output_type": "execute_result",
          "data": {
            "image/png": "[encoded data removed]",
            "text/latex": "$\\displaystyle 20 x_{1} + 5 x_{2}$",
            "text/plain": [
              "20⋅x₁ + 5⋅x₂"
            ]
          },
          "metadata": {},
          "execution_count": 3
        }
      ]
    },
    {
      "cell_type": "code",
      "metadata": {
        "id": "BQgqxkIyM09-",
        "colab": {
          "base_uri": "https://localhost:8080/",
          "height": 38
        },
        "outputId": "c5ce511d-e830-48f0-adef-56e2b647597c"
      },
      "source": [
        "dfx2 = sympy.diff(f, x2)\n",
        "dfx2"
      ],
      "execution_count": null,
      "outputs": [
        {
          "output_type": "execute_result",
          "data": {
            "image/png": "[encoded data removed]",
            "text/latex": "$\\displaystyle 5 x_{1} + 20 x_{2} - 60$",
            "text/plain": [
              "5⋅x₁ + 20⋅x₂ - 60"
            ]
          },
          "metadata": {},
          "execution_count": 4
        }
      ]
    },
    {
      "cell_type": "code",
      "metadata": {
        "id": "CUtKtSJAM09_",
        "colab": {
          "base_uri": "https://localhost:8080/",
          "height": 58
        },
        "outputId": "4f63dec1-9fb3-4a8f-8fef-031e2b9d776c"
      },
      "source": [
        "df = sympy.Matrix([[dfx1], [dfx2]])\n",
        "df"
      ],
      "execution_count": null,
      "outputs": [
        {
          "output_type": "execute_result",
          "data": {
            "text/latex": "$\\displaystyle \\left[\\begin{matrix}20 x_{1} + 5 x_{2}\\\\5 x_{1} + 20 x_{2} - 60\\end{matrix}\\right]$",
            "text/plain": [
              "⎡  20⋅x₁ + 5⋅x₂   ⎤\n",
              "⎢                 ⎥\n",
              "⎣5⋅x₁ + 20⋅x₂ - 60⎦"
            ]
          },
          "metadata": {},
          "execution_count": 5
        }
      ]
    },
    {
      "cell_type": "code",
      "metadata": {
        "id": "XELxKkfoM09_",
        "colab": {
          "base_uri": "https://localhost:8080/",
          "height": 58
        },
        "outputId": "a15cc930-91fa-40f4-cbd8-378e1dc08e75"
      },
      "source": [
        "dfx0 = sympy.Matrix([[df[0].subs([(x1, x0[0]), (x2, x0[1])])],[df[1].subs([(x1, x0[0]), (x2, x0[1])])]])\n",
        "dfx0"
      ],
      "execution_count": null,
      "outputs": [
        {
          "output_type": "execute_result",
          "data": {
            "text/latex": "$\\displaystyle \\left[\\begin{matrix}275\\\\290\\end{matrix}\\right]$",
            "text/plain": [
              "⎡275⎤\n",
              "⎢   ⎥\n",
              "⎣290⎦"
            ]
          },
          "metadata": {},
          "execution_count": 6
        }
      ]
    },
    {
      "cell_type": "code",
      "metadata": {
        "id": "actHHNpDM0-A",
        "colab": {
          "base_uri": "https://localhost:8080/",
          "height": 58
        },
        "outputId": "f7406b17-e238-433b-9818-2e4cf4ee764f"
      },
      "source": [
        "#x0の更新\n",
        "x0 = x0 - a0*dfx0\n",
        "x0"
      ],
      "execution_count": null,
      "outputs": [
        {
          "output_type": "execute_result",
          "data": {
            "text/latex": "$\\displaystyle \\left[\\begin{matrix}10 - 275 a_{0}\\\\15 - 290 a_{0}\\end{matrix}\\right]$",
            "text/plain": [
              "⎡10 - 275⋅a₀⎤\n",
              "⎢           ⎥\n",
              "⎣15 - 290⋅a₀⎦"
            ]
          },
          "metadata": {},
          "execution_count": 7
        }
      ]
    },
    {
      "cell_type": "code",
      "metadata": {
        "id": "CfcI46gjM0-B",
        "colab": {
          "base_uri": "https://localhost:8080/",
          "height": 39
        },
        "outputId": "3079dc5b-ef4a-4733-e21b-1683e5a999b6"
      },
      "source": [
        "fa0 = f.subs([(x1, x0[0]),(x2, x0[1])])\n",
        "fa0"
      ],
      "execution_count": null,
      "outputs": [
        {
          "output_type": "execute_result",
          "data": {
            "image/png": "[encoded data removed]",
            "text/latex": "$\\displaystyle 10 \\left(10 - 275 a_{0}\\right)^{2} + 5 \\left(10 - 275 a_{0}\\right) \\left(15 - 290 a_{0}\\right) + 10 \\left(12 - 290 a_{0}\\right)^{2}$",
            "text/plain": [
              "                2                                                   2\n",
              "10⋅(10 - 275⋅a₀)  + 5⋅(10 - 275⋅a₀)⋅(15 - 290⋅a₀) + 10⋅(12 - 290⋅a₀) "
            ]
          },
          "metadata": {},
          "execution_count": 8
        }
      ]
    },
    {
      "cell_type": "code",
      "metadata": {
        "id": "BiuJQFZyM0-C",
        "colab": {
          "base_uri": "https://localhost:8080/",
          "height": 37
        },
        "outputId": "57363791-4fae-45c2-aad6-42dbf1fdd1e8"
      },
      "source": [
        "#fa0が最小となるa0を求める\n",
        "#今回は２次関数なので、極小値となるa0を求める\n",
        "# solveはlistで返すので注意\n",
        "a0_val = sympy.solve(sympy.diff(fa0,a0))\n",
        "a0_val = float(a0_val[0])\n",
        "a0_val"
      ],
      "execution_count": null,
      "outputs": [
        {
          "output_type": "execute_result",
          "data": {
            "image/png": "[encoded data removed]",
            "text/latex": "$\\displaystyle 0.0400112725450902$",
            "text/plain": [
              "0.04001127254509018"
            ]
          },
          "metadata": {},
          "execution_count": 9
        }
      ]
    },
    {
      "cell_type": "code",
      "metadata": {
        "id": "pbvEkPitM0-C",
        "colab": {
          "base_uri": "https://localhost:8080/",
          "height": 58
        },
        "outputId": "93acadaa-9d3a-4a80-d804-063d13f82df8"
      },
      "source": [
        "x0 = x0.subs(a0,a0_val)\n",
        "x0"
      ],
      "execution_count": null,
      "outputs": [
        {
          "output_type": "execute_result",
          "data": {
            "text/latex": "$\\displaystyle \\left[\\begin{matrix}-1.0030999498998\\\\3.39673096192385\\end{matrix}\\right]$",
            "text/plain": [
              "⎡-1.0030999498998⎤\n",
              "⎢                ⎥\n",
              "⎣3.39673096192385⎦"
            ]
          },
          "metadata": {},
          "execution_count": 10
        }
      ]
    },
    {
      "cell_type": "code",
      "metadata": {
        "id": "dh1LmiyGM0-D",
        "colab": {
          "base_uri": "https://localhost:8080/",
          "height": 58
        },
        "outputId": "f0faac09-06f5-492a-cb6b-775c441c03ec"
      },
      "source": [
        "dfx0 = sympy.Matrix([[df[0].subs([(x1, x0[0]), (x2, x0[1])])],[df[1].subs([(x1, x0[0]), (x2, x0[1])])]])\n",
        "dfx0"
      ],
      "execution_count": null,
      "outputs": [
        {
          "output_type": "execute_result",
          "data": {
            "text/latex": "$\\displaystyle \\left[\\begin{matrix}-3.07834418837677\\\\2.91911948897794\\end{matrix}\\right]$",
            "text/plain": [
              "⎡-3.07834418837677⎤\n",
              "⎢                 ⎥\n",
              "⎣2.91911948897794 ⎦"
            ]
          },
          "metadata": {},
          "execution_count": 11
        }
      ]
    },
    {
      "cell_type": "code",
      "metadata": {
        "id": "tWXH18LlM0-D",
        "colab": {
          "base_uri": "https://localhost:8080/",
          "height": 58
        },
        "outputId": "7d00b9f9-032c-4f36-9fdc-8ac78ef85fb8"
      },
      "source": [
        "#x0の更新\n",
        "x0 = x0 - a0*dfx0\n",
        "x0"
      ],
      "execution_count": null,
      "outputs": [
        {
          "output_type": "execute_result",
          "data": {
            "text/latex": "$\\displaystyle \\left[\\begin{matrix}3.07834418837677 a_{0} - 1.0030999498998\\\\3.39673096192385 - 2.91911948897794 a_{0}\\end{matrix}\\right]$",
            "text/plain": [
              "⎡3.07834418837677⋅a₀ - 1.0030999498998 ⎤\n",
              "⎢                                      ⎥\n",
              "⎣3.39673096192385 - 2.91911948897794⋅a₀⎦"
            ]
          },
          "metadata": {},
          "execution_count": 12
        }
      ]
    },
    {
      "cell_type": "code",
      "metadata": {
        "id": "jdt4WU_tM0-E",
        "colab": {
          "base_uri": "https://localhost:8080/",
          "height": 62
        },
        "outputId": "686d89df-9dba-4d88-cacd-a581490288b7"
      },
      "source": [
        "fa0 = f.subs([(x1, x0[0]),(x2, x0[1])])\n",
        "fa0"
      ],
      "execution_count": null,
      "outputs": [
        {
          "output_type": "execute_result",
          "data": {
            "image/png": "[encoded data removed]",
            "text/latex": "$\\displaystyle 85.2125859093084 \\left(0.135907750067043 - a_{0}\\right)^{2} + 5 \\left(3.39673096192385 - 2.91911948897794 a_{0}\\right) \\left(3.07834418837677 a_{0} - 1.0030999498998\\right) + 94.7620294211304 \\left(a_{0} - 0.325856983012917\\right)^{2}$",
            "text/plain": [
              "                                         2                                    \n",
              "85.2125859093084⋅(0.135907750067043 - a₀)  + 5⋅(3.39673096192385 - 2.919119488\n",
              "\n",
              "                                                                              \n",
              "97794⋅a₀)⋅(3.07834418837677⋅a₀ - 1.0030999498998) + 94.7620294211304⋅(a₀ - 0.3\n",
              "\n",
              "               2\n",
              "25856983012917) "
            ]
          },
          "metadata": {},
          "execution_count": 13
        }
      ]
    },
    {
      "cell_type": "code",
      "metadata": {
        "id": "YTdoobRGM0-E",
        "colab": {
          "base_uri": "https://localhost:8080/",
          "height": 37
        },
        "outputId": "10fed987-c7f9-46c0-8b5d-b9fdbe87a86a"
      },
      "source": [
        "#fa0が最小となるa0を求める\n",
        "#今回は２次関数なので、極小値となるa0を求める\n",
        "# solveはlistで返すので注意\n",
        "a0_val = sympy.solve(sympy.diff(fa0,a0))\n",
        "a0_val = float(a0_val[0])\n",
        "a0_val"
      ],
      "execution_count": null,
      "outputs": [
        {
          "output_type": "execute_result",
          "data": {
            "image/png": "[encoded data removed]",
            "text/latex": "$\\displaystyle 0.0666353775552776$",
            "text/plain": [
              "0.0666353775552776"
            ]
          },
          "metadata": {},
          "execution_count": 14
        }
      ]
    },
    {
      "cell_type": "code",
      "metadata": {
        "id": "Y059f2wMM0-E",
        "colab": {
          "base_uri": "https://localhost:8080/",
          "height": 58
        },
        "outputId": "fce6ddaa-713c-4fec-9693-860427ec5d03"
      },
      "source": [
        "x0 = x0.subs(a0,a0_val)\n",
        "x0"
      ],
      "execution_count": null,
      "outputs": [
        {
          "output_type": "execute_result",
          "data": {
            "text/latex": "$\\displaystyle \\left[\\begin{matrix}-0.79797332266222\\\\3.20221433264683\\end{matrix}\\right]$",
            "text/plain": [
              "⎡-0.79797332266222⎤\n",
              "⎢                 ⎥\n",
              "⎣3.20221433264683 ⎦"
            ]
          },
          "metadata": {},
          "execution_count": 15
        }
      ]
    },
    {
      "cell_type": "code",
      "metadata": {
        "id": "8iD2_CcWM0-F",
        "colab": {
          "base_uri": "https://localhost:8080/",
          "height": 58
        },
        "outputId": "bbe42975-0196-42db-aca8-38abf62acc79"
      },
      "source": [
        "dfx0 = sympy.Matrix([[df[0].subs([(x1, x0[0]), (x2, x0[1])])],[df[1].subs([(x1, x0[0]), (x2, x0[1])])]])\n",
        "dfx0"
      ],
      "execution_count": null,
      "outputs": [
        {
          "output_type": "execute_result",
          "data": {
            "text/latex": "$\\displaystyle \\left[\\begin{matrix}0.0516052099897735\\\\0.0544200396255619\\end{matrix}\\right]$",
            "text/plain": [
              "⎡0.0516052099897735⎤\n",
              "⎢                  ⎥\n",
              "⎣0.0544200396255619⎦"
            ]
          },
          "metadata": {},
          "execution_count": 16
        }
      ]
    },
    {
      "cell_type": "code",
      "metadata": {
        "id": "cdoCAY-aM0-F",
        "colab": {
          "base_uri": "https://localhost:8080/",
          "height": 58
        },
        "outputId": "cdbb7b2f-d5b4-4356-e58d-505d783d5780"
      },
      "source": [
        "#x0の更新\n",
        "x0 = x0 - a0*dfx0\n",
        "x0"
      ],
      "execution_count": null,
      "outputs": [
        {
          "output_type": "execute_result",
          "data": {
            "text/latex": "$\\displaystyle \\left[\\begin{matrix}- 0.0516052099897735 a_{0} - 0.79797332266222\\\\3.20221433264683 - 0.0544200396255619 a_{0}\\end{matrix}\\right]$",
            "text/plain": [
              "⎡-0.0516052099897735⋅a₀ - 0.79797332266222⎤\n",
              "⎢                                         ⎥\n",
              "⎣3.20221433264683 - 0.0544200396255619⋅a₀ ⎦"
            ]
          },
          "metadata": {},
          "execution_count": 17
        }
      ]
    },
    {
      "cell_type": "code",
      "metadata": {
        "id": "GGdBGOtEM0-F",
        "colab": {
          "base_uri": "https://localhost:8080/",
          "height": 83
        },
        "outputId": "42055609-cce1-43d6-c75b-6686e4532fe9"
      },
      "source": [
        "fa0 = f.subs([(x1, x0[0]),(x2, x0[1])])\n",
        "fa0"
      ],
      "execution_count": null,
      "outputs": [
        {
          "output_type": "execute_result",
          "data": {
            "image/png": "[encoded data removed]",
            "text/latex": "$\\displaystyle 0.40890636327804 \\left(1 - 0.269120585634285 a_{0}\\right)^{2} + 5 \\left(3.20221433264683 - 0.0544200396255619 a_{0}\\right) \\left(- 0.0516052099897735 a_{0} - 0.79797332266222\\right) + 6.36761423680583 \\left(- 0.0646703448902362 a_{0} - 1\\right)^{2}$",
            "text/plain": [
              "                                           2                                  \n",
              "0.40890636327804⋅(1 - 0.269120585634285⋅a₀)  + 5⋅(3.20221433264683 - 0.0544200\n",
              "\n",
              "                                                                              \n",
              "396255619⋅a₀)⋅(-0.0516052099897735⋅a₀ - 0.79797332266222) + 6.36761423680583⋅(\n",
              "\n",
              "                           2\n",
              "-0.0646703448902362⋅a₀ - 1) "
            ]
          },
          "metadata": {},
          "execution_count": 18
        }
      ]
    },
    {
      "cell_type": "code",
      "metadata": {
        "id": "XdrV6-ngM0-G",
        "colab": {
          "base_uri": "https://localhost:8080/",
          "height": 37
        },
        "outputId": "c6be5a83-fac5-471f-a8a4-69ebd3b84e05"
      },
      "source": [
        "#fa0が最小となるa0を求める\n",
        "#今回は２次関数なので、極小値となるa0を求める\n",
        "# solveはlistで返すので注意\n",
        "a0_val = sympy.solve(sympy.diff(fa0,a0))\n",
        "a0_val = float(a0_val[0])\n",
        "a0_val"
      ],
      "execution_count": null,
      "outputs": [
        {
          "output_type": "execute_result",
          "data": {
            "image/png": "[encoded data removed]",
            "text/latex": "$\\displaystyle 0.0400112725450882$",
            "text/plain": [
              "0.040011272545088176"
            ]
          },
          "metadata": {},
          "execution_count": 19
        }
      ]
    },
    {
      "cell_type": "code",
      "metadata": {
        "id": "3lzAYo0uM0-G",
        "colab": {
          "base_uri": "https://localhost:8080/",
          "height": 58
        },
        "outputId": "7681001b-06bc-456a-c6c6-023fbea0c5dd"
      },
      "source": [
        "x0 = x0.subs(a0,a0_val)\n",
        "x0"
      ],
      "execution_count": null,
      "outputs": [
        {
          "output_type": "execute_result",
          "data": {
            "text/latex": "$\\displaystyle \\left[\\begin{matrix}-0.800038112783867\\\\3.20003691760946\\end{matrix}\\right]$",
            "text/plain": [
              "⎡-0.800038112783867⎤\n",
              "⎢                  ⎥\n",
              "⎣ 3.20003691760946 ⎦"
            ]
          },
          "metadata": {},
          "execution_count": 20
        }
      ]
    },
    {
      "cell_type": "markdown",
      "metadata": {
        "id": "cqAbc3YWM0-G"
      },
      "source": [
        "## 解析的に解く"
      ]
    },
    {
      "cell_type": "code",
      "metadata": {
        "id": "RwgeiaQmM0-H",
        "colab": {
          "base_uri": "https://localhost:8080/",
          "height": 58
        },
        "outputId": "02662a28-afde-4875-8211-4ddbc5e6e17f"
      },
      "source": [
        "x_0 = sympy.solve([dfx1, dfx2])\n",
        "x_0"
      ],
      "execution_count": null,
      "outputs": [
        {
          "output_type": "execute_result",
          "data": {
            "image/png": "[encoded data removed]",
            "text/latex": "$\\displaystyle \\left\\{ x_{1} : - \\frac{4}{5}, \\  x_{2} : \\frac{16}{5}\\right\\}$",
            "text/plain": [
              "{x₁: -4/5, x₂: 16/5}"
            ]
          },
          "metadata": {},
          "execution_count": 21
        }
      ]
    }
  ]
}