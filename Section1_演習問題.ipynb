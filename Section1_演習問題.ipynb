{
  "nbformat": 4,
  "nbformat_minor": 0,
  "metadata": {
    "colab": {
      "name": "Section1_演習問題.ipynb",
      "provenance": [],
      "collapsed_sections": []
    },
    "kernelspec": {
      "name": "python3",
      "display_name": "Python 3"
    },
    "language_info": {
      "name": "python"
    }
  },
  "cells": [
    {
      "cell_type": "markdown",
      "metadata": {
        "id": "TylkmnJ0pXAI"
      },
      "source": [
        "(1) word = 'Hello' としたとき、2文字目を出力しなさい"
      ]
    },
    {
      "cell_type": "code",
      "metadata": {
        "colab": {
          "base_uri": "https://localhost:8080/",
          "height": 35
        },
        "id": "e0ZavrF8pOXt",
        "outputId": "5e12f38c-9957-4666-f854-61bf0422659b"
      },
      "source": [
        "word ='Hello'\n",
        "word[1]"
      ],
      "execution_count": 1,
      "outputs": [
        {
          "output_type": "execute_result",
          "data": {
            "application/vnd.google.colaboratory.intrinsic+json": {
              "type": "string"
            },
            "text/plain": [
              "'e'"
            ]
          },
          "metadata": {},
          "execution_count": 1
        }
      ]
    },
    {
      "cell_type": "markdown",
      "metadata": {
        "id": "R19mP6YhpuU1"
      },
      "source": [
        "(2) word[-1]とすると、何が得られますか？"
      ]
    },
    {
      "cell_type": "code",
      "metadata": {
        "colab": {
          "base_uri": "https://localhost:8080/",
          "height": 35
        },
        "id": "WNwNHZclpfpM",
        "outputId": "b5e2e439-4b86-4604-cdd8-a88e3a101b66"
      },
      "source": [
        "word[-1] #最後の文字"
      ],
      "execution_count": 3,
      "outputs": [
        {
          "output_type": "execute_result",
          "data": {
            "application/vnd.google.colaboratory.intrinsic+json": {
              "type": "string"
            },
            "text/plain": [
              "'o'"
            ]
          },
          "metadata": {},
          "execution_count": 3
        }
      ]
    },
    {
      "cell_type": "markdown",
      "metadata": {
        "id": "3bNCfMolp8Pe"
      },
      "source": [
        "(3) wordからellだけ表示しなさい"
      ]
    },
    {
      "cell_type": "code",
      "metadata": {
        "colab": {
          "base_uri": "https://localhost:8080/",
          "height": 35
        },
        "id": "N1psYCD7px6l",
        "outputId": "a79bf3ca-d3f4-4564-ca68-be0b90d2aa62"
      },
      "source": [
        "word[1:4]"
      ],
      "execution_count": 6,
      "outputs": [
        {
          "output_type": "execute_result",
          "data": {
            "application/vnd.google.colaboratory.intrinsic+json": {
              "type": "string"
            },
            "text/plain": [
              "'ell'"
            ]
          },
          "metadata": {},
          "execution_count": 6
        }
      ]
    },
    {
      "cell_type": "markdown",
      "metadata": {
        "id": "iDAT-a3AqR2N"
      },
      "source": [
        "(4) リスト values = [1, 2, 3, 4, 5]の最後に6を追加しなさい"
      ]
    },
    {
      "cell_type": "code",
      "metadata": {
        "colab": {
          "base_uri": "https://localhost:8080/"
        },
        "id": "2zOxRjEnqDeM",
        "outputId": "87da85be-d869-49c9-e4a2-1367c7567e12"
      },
      "source": [
        "values = [1, 2, 3, 4, 5]\n",
        "values.append(6)\n",
        "values"
      ],
      "execution_count": 8,
      "outputs": [
        {
          "output_type": "execute_result",
          "data": {
            "text/plain": [
              "[1, 2, 3, 4, 5, 6]"
            ]
          },
          "metadata": {},
          "execution_count": 8
        }
      ]
    },
    {
      "cell_type": "markdown",
      "metadata": {
        "id": "slk1qCSqqjVF"
      },
      "source": [
        "(5) リストvaluesの長さを求めなさい(6の追加後の長さ)\n"
      ]
    },
    {
      "cell_type": "code",
      "metadata": {
        "colab": {
          "base_uri": "https://localhost:8080/"
        },
        "id": "4Ii-CQfuqXps",
        "outputId": "955d1c69-3802-4d9a-a04f-119dc36c6004"
      },
      "source": [
        "len(values)"
      ],
      "execution_count": 9,
      "outputs": [
        {
          "output_type": "execute_result",
          "data": {
            "text/plain": [
              "6"
            ]
          },
          "metadata": {},
          "execution_count": 9
        }
      ]
    },
    {
      "cell_type": "markdown",
      "metadata": {
        "id": "ohpwe3Rxqs6E"
      },
      "source": [
        "(6) リストvalueの3番目の要素(要素番号は2)を表示しなさい"
      ]
    },
    {
      "cell_type": "code",
      "metadata": {
        "colab": {
          "base_uri": "https://localhost:8080/"
        },
        "id": "Cxg-odXbqmS4",
        "outputId": "898801fa-f8f5-4e60-bfa8-99200a523c86"
      },
      "source": [
        "values[2]"
      ],
      "execution_count": 10,
      "outputs": [
        {
          "output_type": "execute_result",
          "data": {
            "text/plain": [
              "3"
            ]
          },
          "metadata": {},
          "execution_count": 10
        }
      ]
    },
    {
      "cell_type": "markdown",
      "metadata": {
        "id": "rk4ErzhSq_5m"
      },
      "source": [
        "(7) ループを使って、リストvaluesを1つずつ表示しなさい"
      ]
    },
    {
      "cell_type": "code",
      "metadata": {
        "colab": {
          "base_uri": "https://localhost:8080/"
        },
        "id": "6_OEHEbEqwNx",
        "outputId": "2d109060-3756-403d-e2bb-860a10fe78f7"
      },
      "source": [
        "for i in values:\n",
        "  print(i)"
      ],
      "execution_count": 11,
      "outputs": [
        {
          "output_type": "stream",
          "name": "stdout",
          "text": [
            "1\n",
            "2\n",
            "3\n",
            "4\n",
            "5\n",
            "6\n"
          ]
        }
      ]
    },
    {
      "cell_type": "markdown",
      "metadata": {
        "id": "ZI4tX5LdrIfl"
      },
      "source": [
        "(8) 100までの7の倍数をすべて表示するプログラムを作成しなさい"
      ]
    },
    {
      "cell_type": "code",
      "metadata": {
        "colab": {
          "base_uri": "https://localhost:8080/"
        },
        "id": "DwR-Ge7nrFZB",
        "outputId": "47c561a6-25b1-46f2-a505-b552ac92acee"
      },
      "source": [
        "for i in range(7, 100, 7):\n",
        "  print(i)"
      ],
      "execution_count": 12,
      "outputs": [
        {
          "output_type": "stream",
          "name": "stdout",
          "text": [
            "7\n",
            "14\n",
            "21\n",
            "28\n",
            "35\n",
            "42\n",
            "49\n",
            "56\n",
            "63\n",
            "70\n",
            "77\n",
            "84\n",
            "91\n",
            "98\n"
          ]
        }
      ]
    },
    {
      "cell_type": "markdown",
      "metadata": {
        "id": "rIlZnYRxriIR"
      },
      "source": [
        "(9) 0以上の7の倍数の和が初めて2000を超えるときの7の倍数の個数を求めよ"
      ]
    },
    {
      "cell_type": "code",
      "metadata": {
        "colab": {
          "base_uri": "https://localhost:8080/"
        },
        "id": "6JwCFaCOrWp2",
        "outputId": "2fc569fc-8cae-488b-ac41-80b9eb7e2821"
      },
      "source": [
        "sum = 0\n",
        "count = 0\n",
        "for i in range(7, 2000, 7):\n",
        "  sum += i\n",
        "  count += 1\n",
        "  if sum > 2000:\n",
        "    break\n",
        "    \n",
        "print(count)"
      ],
      "execution_count": 14,
      "outputs": [
        {
          "output_type": "stream",
          "name": "stdout",
          "text": [
            "24\n"
          ]
        }
      ]
    },
    {
      "cell_type": "markdown",
      "metadata": {
        "id": "VQYSBFpusjWN"
      },
      "source": [
        "(10) fruits = ['orange', 'apple', 'banana', 'pineapple', 'lemon', 'apple', 'banana']にappleはいくつありますか"
      ]
    },
    {
      "cell_type": "code",
      "metadata": {
        "colab": {
          "base_uri": "https://localhost:8080/"
        },
        "id": "7MPrJZsvsF8i",
        "outputId": "fe929263-86d1-4a8e-ef7f-eb977b65f1c7"
      },
      "source": [
        "fruits = ['orange', 'apple', 'banana', 'pineapple', 'lemon', 'apple', 'banana']\n",
        "print(fruits.count('apple'))"
      ],
      "execution_count": 16,
      "outputs": [
        {
          "output_type": "stream",
          "name": "stdout",
          "text": [
            "2\n"
          ]
        }
      ]
    },
    {
      "cell_type": "code",
      "metadata": {
        "id": "UfNPy9QnsohP"
      },
      "source": [
        ""
      ],
      "execution_count": null,
      "outputs": []
    }
  ]
}